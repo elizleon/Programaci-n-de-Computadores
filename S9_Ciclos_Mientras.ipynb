{
  "nbformat": 4,
  "nbformat_minor": 0,
  "metadata": {
    "colab": {
      "provenance": [],
      "authorship_tag": "ABX9TyM752gYOYT0ymgNHGk55xUc",
      "include_colab_link": true
    },
    "kernelspec": {
      "name": "python3",
      "display_name": "Python 3"
    },
    "language_info": {
      "name": "python"
    }
  },
  "cells": [
    {
      "cell_type": "markdown",
      "metadata": {
        "id": "view-in-github",
        "colab_type": "text"
      },
      "source": [
        "<a href=\"https://colab.research.google.com/github/elizleon/Programacion-de-Computadores/blob/main/S9_Ciclos_Mientras.ipynb\" target=\"_parent\"><img src=\"https://colab.research.google.com/assets/colab-badge.svg\" alt=\"Open In Colab\"/></a>"
      ]
    },
    {
      "cell_type": "markdown",
      "source": [
        "##Programación de Computadores\n",
        "##Profesora Elizabeth León Guzmán\n",
        "-----"
      ],
      "metadata": {
        "id": "GlYnynpFl4qG"
      }
    },
    {
      "cell_type": "markdown",
      "source": [
        "##Ciclo mientras **\"while\"**\n",
        "El ciclo **mientras** ``while`` permite ejecutar un bloque de instrucciones mientras que una *expresión booleana* dada se cumpla, es decir, mientras su evaluación dé como resultado verdadero. \n",
        "\n",
        "La expresión booleana se denomina **condición de parada** y siempre se evalúa antes de ejecutar el bloque de instrucciones; tras esto se pueden presentar dos casos:\n",
        "\n",
        "\n",
        "* Si la condición no se cumple, el bloque no se ejecuta.\n",
        "* Si la condición se cumple, el bloque se ejecuta, después de lo cual la instrucción vuelve a empezar, es decir, la condición se vuelve a evaluar.\n",
        "\n",
        "```\n",
        " <bloque_prev>\n",
        " while(<cond>): \n",
        "    <bloque>\n",
        " <bloque_sigui>\n",
        "```\n",
        "\n",
        "```\n",
        " <bloque_prev>\n",
        " <inicia>\n",
        " while(<cond>): \n",
        "    <bloque>\n",
        "    <actualiza>\n",
        " <bloque_sigui>\n",
        "```"
      ],
      "metadata": {
        "id": "yBnn_85kmGeg"
      }
    },
    {
      "cell_type": "markdown",
      "source": [
        "###Ejemplo:\n",
        "```\n",
        "<bloque_prev>\n",
        "i = 0\n",
        "while(i <= 6):\n",
        "  print(i)\n",
        "  i = i + 1\n",
        "<bloque_sigui>\n",
        "```"
      ],
      "metadata": {
        "id": "xspEBAruor0I"
      }
    },
    {
      "cell_type": "code",
      "source": [
        "i = 0\n",
        "while(i <= 6):\n",
        "  print(i)\n",
        "  i = i + 1"
      ],
      "metadata": {
        "colab": {
          "base_uri": "https://localhost:8080/"
        },
        "id": "Xo9YqoGLpMnO",
        "outputId": "65b6aabb-485c-456e-fa78-58369513e8f4"
      },
      "execution_count": 1,
      "outputs": [
        {
          "output_type": "stream",
          "name": "stdout",
          "text": [
            "0\n",
            "1\n",
            "2\n",
            "3\n",
            "4\n",
            "5\n",
            "6\n"
          ]
        }
      ]
    },
    {
      "cell_type": "markdown",
      "source": [
        "###Ejemplo:\n",
        "1. Escribir un programa que pida un número entero positivo y muestre por pantalla todos los números impares desde 1 hasta ese número separados por comas."
      ],
      "metadata": {
        "id": "RZDQOsuUptV7"
      }
    },
    {
      "cell_type": "code",
      "source": [
        "n = int(input(\"Introduce un número entero positivo: \"))\n",
        "i = 1\n",
        "while (i<=n):\n",
        "  print(i, end=\", \")\n",
        "  i+=2"
      ],
      "metadata": {
        "id": "Ki_GJFk-qIZc"
      },
      "execution_count": null,
      "outputs": []
    },
    {
      "cell_type": "markdown",
      "source": [
        "2. ¿Qué realiza el siguiente código?"
      ],
      "metadata": {
        "id": "sXpE1HDB7Kup"
      }
    },
    {
      "cell_type": "code",
      "source": [
        "i = 2\n",
        "j = 25\n",
        "while i < j:\n",
        "  print(i, j, sep = \", \")\n",
        "  i *= 2\n",
        "  j += 10\n",
        "print(\"the end.\")\n",
        "print(i, j, sep = \", \")\n"
      ],
      "metadata": {
        "colab": {
          "base_uri": "https://localhost:8080/"
        },
        "id": "7GzuvU0Sqp9l",
        "outputId": "df603f04-6ece-485b-e876-0ee4fa79e6ef"
      },
      "execution_count": null,
      "outputs": [
        {
          "output_type": "stream",
          "name": "stdout",
          "text": [
            "2, 25\n",
            "4, 35\n",
            "8, 45\n",
            "16, 55\n",
            "32, 65\n",
            "64, 75\n",
            "the end.\n",
            "128, 85\n"
          ]
        }
      ]
    },
    {
      "cell_type": "markdown",
      "source": [
        "3. Dado que los números reales que son representables en un computador son finitos, entonces es posible hablar del menor número positivo representable en la máquina, es decir el número\n",
        "\\begin{gather*}\n",
        "x_{min} = min \\text{{x :(x es un número de máquina) ∧ (x > 0)}}\n",
        "\\end{gather*}\n",
        "Para encontrar dicho número hay un algoritmo que permite encontrar dicho valor. El algoritmo consiste en comenzar con una variable en un valor de uno (1) e ir dividiendo la variable por dos (2) repetidamente mientras que se pueda distinguir de cero (0). El último valor distinguible de cero, se conoce como\n",
        "el mínimo número positivo de la máquina. \\\\\n",
        "Formalmente, lo que se realiza es una progresión geométrica que inicia con el termino $x_0$ = 1 y los términos siguientes se calculan como $x_{n+1} = \\frac{x_n}{2}$ , esto se realiza mientras cada\n",
        "nuevo término es diferente de cero. Se divide por 2 por estar los números representados en base dos en los computadores.\n"
      ],
      "metadata": {
        "id": "k14LYOZU7HcZ"
      }
    },
    {
      "cell_type": "code",
      "source": [
        "def min_maquina():\n",
        "  Xo = 1.0\n",
        "  Xi = Xo / 2.0\n",
        "  while Xi > 0.0:\n",
        "    Xo = Xi\n",
        "    Xi = Xo / 2.0\n",
        "  return Xo\n",
        "\n",
        "print(\"El mínimo número positivo\", end = \" \")\n",
        "print(\"en esta máquina es:\", min_maquina())"
      ],
      "metadata": {
        "colab": {
          "base_uri": "https://localhost:8080/"
        },
        "id": "UsF3OjIx-egj",
        "outputId": "4c285494-c008-44bd-b0a1-3da797338edd"
      },
      "execution_count": null,
      "outputs": [
        {
          "output_type": "stream",
          "name": "stdout",
          "text": [
            "El mínimo número positivo en esta máquina es: 5e-324\n"
          ]
        }
      ]
    },
    {
      "cell_type": "markdown",
      "source": [
        "###Ejercicios"
      ],
      "metadata": {
        "id": "eZ4jSo4_3-AN"
      }
    },
    {
      "cell_type": "markdown",
      "source": [
        "1. Imprimir un listado con los números del 1 al 100 cada uno con su respectivo cuadrado.\n",
        "\n",
        "2. Diseñe un algoritmo que involucre un ciclo ``while`` y que nunca ingrese al ciclo.\n",
        "\n",
        "3. Diseñe un algoritmo que involucre un ciclo ``while`` y que se ejecute indefinidamente\n",
        "\n",
        "4. Imprimir los números pares en forma descendente hasta 2 que son menores o iguales a un número natural n ≥ 2 dado\n",
        "\n",
        "5. **Poblaciones**. En el año 2010, el país A tiene una población de n (1 <=n <= 10^8) y el país B tiene una población de m (1 <= m <= n). Las tasas de crecimiento anual es de 2% y 3% respectivamente. Desarrollar una función que reciba la población de cada uno de los países, e informe en que año la población del país B iguala o supera a la del país A.\n",
        "Probar la función con varios valores incluyendo:\n",
        "<table>\n",
        "    <tr>\n",
        "        <td>Entradas</td> <td>Salida</td>\n",
        "    </tr>\n",
        "    <tr>\n",
        "        <td> n=2 , m=1<br> n=2760 ,  m=190</td>\n",
        "        <td>2082<br>2285</td>\n",
        "    </tr>\n",
        "</table>\n",
        "6. **Dígitos**.Implementar una función que use el ciclo ``while`` para determinar el número de dígitos de un número entero n.\n",
        "<table>\n",
        "    <tr>\n",
        "        <td>Entradas</td> <td>Salida</td>\n",
        "    </tr>\n",
        "    <tr>\n",
        "        <td> n=1000<br> n=15 <br> n=6</td>\n",
        "        <td> 4<br>2<br> 1</td>\n",
        "    </tr>\n",
        "</table>\n",
        "\n",
        "\n",
        "7. **Triángulo**. Escribir un programa que pida al usuario un número entero y muestre en pantalla un triángulo rectángulo con altura igual el número introducido. El siguiente triangulo sería la salida cuando el número introducido es 5\n",
        "  ```\n",
        "  *\n",
        "  **\n",
        "  ***\n",
        "  ****\n",
        "  *****\n",
        "  ```"
      ],
      "metadata": {
        "id": "IABW6RMw0NnJ"
      }
    },
    {
      "cell_type": "markdown",
      "source": [
        "##Ciclo hacer mientras **\"do\"**\n",
        "Otra estructura cíclica en programación es el ciclo hacer-mientras (do). Esta estructura es casi equivalente a la estructura mientras (while), ya que usualmente se utiliza cuando con seguridad y de forma anticipada se sabe que se hará al menos una evaluación del bloque principal del ciclo. En esta estructura cíclica la\n",
        "verificación de la condición de parada se realiza al final del ciclo.\n"
      ],
      "metadata": {
        "id": "TLFIS3X_6NwK"
      }
    },
    {
      "cell_type": "markdown",
      "source": [
        "Sin embargo, no existe una instrucción en Python para el ciclo hacer-mientras ``do`` y  éste es aproximado usando un ciclo mientras ``while``. \n",
        "\n",
        "Un esquema textual, que en Python es una aproximación al ciclo hacer-mientras ``do``, es la que se da en el siguiente fragmento de código, obsérvese que antes del ciclo tanto el bloque principal del ciclo como la actualización se ejecutan una vez.\n",
        "```\n",
        "<bloque_prev>\n",
        "<inicia>\n",
        "<bloque>\n",
        "<actualiza>\n",
        "while(<cond>):\n",
        "   <bloque>\n",
        "   <actualiza>\n",
        "<bloque_sigui>\n",
        "```\n",
        "\n",
        "Un algoritmo para obtener el mínimo número positivo de la m áquina que usa un ciclo hacer-mientras (do) se muestra a continuación\n",
        "```\n",
        "def min_maquina():\n",
        "  Xi = 1.0 # Valor inicial\n",
        "  Xo = Xi\n",
        "  Xi = Xo / 2.0\n",
        "  while(Xi > 0.0):\n",
        "    Xo = Xi\n",
        "    Xi = Xo / 2.0\n",
        "  return Xo\n",
        "print(\"El mínimo número positivo\", end = \" \")\n",
        "print(\"en esta máquina es:\", min_maquina())\n",
        "```"
      ],
      "metadata": {
        "id": "ipIVPUR8H5eo"
      }
    },
    {
      "cell_type": "code",
      "source": [
        "def min_maquina():\n",
        "  Xi = 1.0 # Valor inicial\n",
        "  Xo = Xi\n",
        "  Xi = Xo / 2.0\n",
        "  while(Xi > 0.0):\n",
        "    Xo = Xi\n",
        "    Xi = Xo / 2.0\n",
        "  return Xo\n",
        "print(\"El mínimo número positivo\", end = \" \")\n",
        "print(\"en esta máquina es:\", min_maquina())"
      ],
      "metadata": {
        "id": "jKX7NdiJI-_J"
      },
      "execution_count": null,
      "outputs": []
    }
  ]
}