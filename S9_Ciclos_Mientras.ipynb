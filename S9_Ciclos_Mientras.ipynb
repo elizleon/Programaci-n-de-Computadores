{
  "nbformat": 4,
  "nbformat_minor": 0,
  "metadata": {
    "colab": {
      "provenance": [],
      "authorship_tag": "ABX9TyOTG7rI3kedmhlXjYUdBbNX",
      "include_colab_link": true
    },
    "kernelspec": {
      "name": "python3",
      "display_name": "Python 3"
    },
    "language_info": {
      "name": "python"
    }
  },
  "cells": [
    {
      "cell_type": "markdown",
      "metadata": {
        "id": "view-in-github",
        "colab_type": "text"
      },
      "source": [
        "<a href=\"https://colab.research.google.com/github/elizleon/Programacion-de-Computadores/blob/main/S9_Ciclos_Mientras.ipynb\" target=\"_parent\"><img src=\"https://colab.research.google.com/assets/colab-badge.svg\" alt=\"Open In Colab\"/></a>"
      ]
    },
    {
      "cell_type": "markdown",
      "source": [
        "##Programación de Computadores\n",
        "##Profesora Elizabeth León Guzmán\n",
        "-----"
      ],
      "metadata": {
        "id": "GlYnynpFl4qG"
      }
    },
    {
      "cell_type": "markdown",
      "source": [
        "##Ciclo mientras **\"while\"**\n",
        "El ciclo **mientras** ``while`` permite ejecutar un bloque de instrucciones mientras que una *expresión booleana* dada se cumpla, es decir, mientras el resultado de la evaluación sea verdadero. \n",
        "\n",
        "La expresión booleana se denomina **condición de parada** y siempre se evalúa antes de ejecutar el bloque de instrucciones; tras esto se pueden presentar dos casos:\n",
        "\n",
        "\n",
        "* Si la condición no se cumple, el bloque no se ejecuta.\n",
        "* Si la condición se cumple, el bloque se ejecuta, después de lo cual la instrucción vuelve a empezar, es decir, la condición se vuelve a evaluar.\n",
        "\n",
        "```\n",
        " <bloque_prev>\n",
        " while(<cond>): \n",
        "    <bloque>\n",
        " <bloque_sigui>\n",
        "```\n",
        "\n",
        "```\n",
        " <bloque_prev>\n",
        " <inicia>\n",
        " while(<cond>): \n",
        "    <bloque>\n",
        "    <actualiza>\n",
        " <bloque_sigui>\n",
        "```"
      ],
      "metadata": {
        "id": "yBnn_85kmGeg"
      }
    },
    {
      "cell_type": "markdown",
      "source": [
        "###Ejemplo:\n",
        "```\n",
        "<bloque_prev>\n",
        "i = 0\n",
        "while(i <= 6):\n",
        "  print(i)\n",
        "  i = i + 1\n",
        "<bloque_sigui>\n",
        "```"
      ],
      "metadata": {
        "id": "xspEBAruor0I"
      }
    },
    {
      "cell_type": "code",
      "source": [
        "i = 0\n",
        "while(i <= 6):\n",
        "  print(i)\n",
        "  i = i + 1"
      ],
      "metadata": {
        "id": "Xo9YqoGLpMnO"
      },
      "execution_count": null,
      "outputs": []
    },
    {
      "cell_type": "markdown",
      "source": [
        "###Ejemplo:\n",
        "1. Escribir un programa que pida un número entero positivo y muestre por pantalla todos los números impares desde 1 hasta ese número separados por comas."
      ],
      "metadata": {
        "id": "RZDQOsuUptV7"
      }
    },
    {
      "cell_type": "code",
      "source": [
        "n = int(input(\"Introduce un número entero positivo: \"))\n",
        "i = 1\n",
        "while (i<=n):\n",
        "  print(i, end=\", \")\n",
        "  i+=2"
      ],
      "metadata": {
        "id": "Ki_GJFk-qIZc"
      },
      "execution_count": null,
      "outputs": []
    },
    {
      "cell_type": "markdown",
      "source": [
        "2. ¿Qué realiza el siguiente código?"
      ],
      "metadata": {
        "id": "sXpE1HDB7Kup"
      }
    },
    {
      "cell_type": "code",
      "source": [
        "i = 2\n",
        "j = 25\n",
        "while i < j:\n",
        "  print(i, j, sep = \", \")\n",
        "  i *= 2\n",
        "  j += 10\n",
        "print(\"the end.\")\n",
        "print(i, j, sep = \", \")\n"
      ],
      "metadata": {
        "colab": {
          "base_uri": "https://localhost:8080/"
        },
        "id": "7GzuvU0Sqp9l",
        "outputId": "44939c95-f893-4b3f-f00b-7afd454f2442"
      },
      "execution_count": null,
      "outputs": [
        {
          "output_type": "stream",
          "name": "stdout",
          "text": [
            "2, 25\n",
            "4, 35\n",
            "8, 45\n",
            "16, 55\n",
            "32, 65\n",
            "64, 75\n",
            "the end.\n",
            "128, 85\n"
          ]
        }
      ]
    },
    {
      "cell_type": "markdown",
      "source": [
        "3. Dado que los números reales que son representables en un computador son finitos, entonces es posible hablar del menor número positivo representable en la máquina, es decir el número\n",
        "\\begin{gather*}\n",
        "x_{min} = min \\text{{x :(x es un número de máquina) ∧ (x > 0)}}\n",
        "\\end{gather*}\n",
        "Para encontrar dicho número hay un algoritmo que permite encontrar dicho valor. El algoritmo consiste en comenzar con una variable en un valor de uno (1) e ir dividiendo la variable por dos (2) repetidamente mientras que se pueda distinguir de cero (0). El último valor distinguible de cero, se conoce como\n",
        "el mínimo número positivo de la máquina. \\\\\n",
        "Formalmente, lo que se realiza es una progresión geométrica que inicia con el termino $x_0$ = 1 y los términos siguientes se calculan como $x_{n+1} = \\frac{x_n}{2}$ , esto se realiza mientras cada\n",
        "nuevo término es diferente de cero. Se divide por 2 por estar los números representados en base dos en los computadores.\n"
      ],
      "metadata": {
        "id": "k14LYOZU7HcZ"
      }
    },
    {
      "cell_type": "code",
      "source": [
        "def min_maquina():\n",
        "  Xo = 1.0\n",
        "  Xi = Xo / 2.0\n",
        "  while Xi > 0.0:\n",
        "    Xo = Xi\n",
        "    Xi = Xo / 2.0\n",
        "  return Xo\n",
        "\n",
        "print(\"El mínimo número positivo\", end = \" \")\n",
        "print(\"en esta máquina es:\", min_maquina())"
      ],
      "metadata": {
        "colab": {
          "base_uri": "https://localhost:8080/"
        },
        "id": "UsF3OjIx-egj",
        "outputId": "4c285494-c008-44bd-b0a1-3da797338edd"
      },
      "execution_count": null,
      "outputs": [
        {
          "output_type": "stream",
          "name": "stdout",
          "text": [
            "El mínimo número positivo en esta máquina es: 5e-324\n"
          ]
        }
      ]
    },
    {
      "cell_type": "markdown",
      "source": [
        "###Ejercicios"
      ],
      "metadata": {
        "id": "eZ4jSo4_3-AN"
      }
    },
    {
      "cell_type": "markdown",
      "source": [
        "1. Imprimir un listado con los números del 1 al 100 cada uno con su respectivo cuadrado.\n",
        "\n",
        "2. Diseñe un algoritmo que involucre un ciclo ``while`` y que nunca ingrese al ciclo.\n",
        "\n",
        "3. Diseñe un algoritmo que involucre un ciclo ``while`` y que se ejecute indefinidamente\n",
        "\n",
        "4. Imprimir los números pares en forma descendente hasta 2 que son menores o iguales a un número natural n ≥ 2 dado\n",
        "\n",
        "5. **Poblaciones**. En el año 2010, el país A tiene una población de n (1 <=n <= 10^8) y el país B tiene una población de m (1 <= m <= n). Las tasas de crecimiento anual es de 2% y 3% respectivamente. Desarrollar una función que reciba la población de cada uno de los países, e informe en que año la población del país B iguala o supera a la del país A.\n",
        "Probar la función con varios valores incluyendo:\n",
        "<table>\n",
        "    <tr>\n",
        "        <td>Entradas</td> <td>Salida</td>\n",
        "    </tr>\n",
        "    <tr>\n",
        "        <td> n=2 , m=1<br> n=2760 ,  m=190</td>\n",
        "        <td>2082<br>2285</td>\n",
        "    </tr>\n",
        "</table>\n",
        "6. **Dígitos**.Implementar una función que use el ciclo ``while`` para determinar el número de dígitos de un número entero n.\n",
        "<table>\n",
        "    <tr>\n",
        "        <td>Entradas</td> <td>Salida</td>\n",
        "    </tr>\n",
        "    <tr>\n",
        "        <td> n=1000<br> n=15 <br> n=6</td>\n",
        "        <td> 4<br>2<br> 1</td>\n",
        "    </tr>\n",
        "</table>\n",
        "\n",
        "\n",
        "7. **Triángulo**. Escribir un programa que pida al usuario un número entero y muestre en pantalla un triángulo rectángulo con altura igual el número introducido. El siguiente triangulo sería la salida cuando el número introducido es 5\n",
        "  ```\n",
        "  *\n",
        "  **\n",
        "  ***\n",
        "  ****\n",
        "  *****\n",
        "  ```"
      ],
      "metadata": {
        "id": "IABW6RMw0NnJ"
      }
    },
    {
      "cell_type": "markdown",
      "source": [
        "##Ciclo hacer mientras **\"do\"**\n",
        "Otra estructura cíclica en programación es el ciclo hacer-mientras (do). Esta estructura es casi equivalente a la estructura mientras (while), ya que usualmente se utiliza cuando con seguridad y de forma anticipada se sabe que se hará al menos una evaluación del bloque principal del ciclo. En esta estructura cíclica la\n",
        "verificación de la condición de parada se realiza al final del ciclo.\n"
      ],
      "metadata": {
        "id": "TLFIS3X_6NwK"
      }
    },
    {
      "cell_type": "markdown",
      "source": [
        "Sin embargo, no existe una instrucción en Python para el ciclo hacer-mientras ``do`` y  éste es aproximado usando un ciclo mientras ``while``. \n",
        "\n",
        "Un esquema textual, que en Python es una aproximación al ciclo hacer-mientras ``do``, es la que se da en el siguiente fragmento de código, obsérvese que antes del ciclo tanto el bloque principal del ciclo como la actualización se ejecutan una vez.\n",
        "```\n",
        "<bloque_prev>\n",
        "<inicia>\n",
        "<bloque>\n",
        "<actualiza>\n",
        "while(<cond>):\n",
        "   <bloque>\n",
        "   <actualiza>\n",
        "<bloque_sigui>\n",
        "```\n",
        "\n",
        "Un algoritmo para obtener el mínimo número positivo de la m áquina que usa un ciclo hacer-mientras (do) se muestra a continuación\n",
        "```\n",
        "def min_maquina():\n",
        "  Xi = 1.0 # Valor inicial\n",
        "  Xo = Xi\n",
        "  Xi = Xo / 2.0\n",
        "  while(Xi > 0.0):\n",
        "    Xo = Xi\n",
        "    Xi = Xo / 2.0\n",
        "  return Xo\n",
        "print(\"El mínimo número positivo\", end = \" \")\n",
        "print(\"en esta máquina es:\", min_maquina())\n",
        "```"
      ],
      "metadata": {
        "id": "ipIVPUR8H5eo"
      }
    },
    {
      "cell_type": "code",
      "source": [
        "def min_maquina():\n",
        "  Xi = 1.0 # Valor inicial\n",
        "  Xo = Xi\n",
        "  Xi = Xo / 2.0\n",
        "  while(Xi > 0.0):\n",
        "    Xo = Xi\n",
        "    Xi = Xo / 2.0\n",
        "  return Xo\n",
        "print(\"El mínimo número positivo\", end = \" \")\n",
        "print(\"en esta máquina es:\", min_maquina())"
      ],
      "metadata": {
        "id": "jKX7NdiJI-_J"
      },
      "execution_count": null,
      "outputs": []
    },
    {
      "cell_type": "markdown",
      "source": [
        "## Variables bandera\n",
        "\n",
        "Variable booleana que garantice que se entre al ciclo al menos una vez. Un esquema textual en Python para esta aproximación al ciclo\n",
        "hacer-mientras (do) es la que se da en el siguiente fragmento de código,\n",
        "obsérvese el comportamiento de la bandera garantizando que el ciclo se ejecute al menos una vez.\n",
        "\n",
        "```\n",
        "def min_maquina():\n",
        "   Xi = 1.0 # Valor inicial\n",
        "   bandera = True # Permite que se ejecute el\n",
        "   # ciclo al menos una vez\n",
        "\n",
        "   while(bandera or Xi > 0.0):\n",
        "      bandera = False # Indica que ya se entro al\n",
        "      # ciclo y que luego sólo se   \n",
        "      # debe evaluar la condición\n",
        "\n",
        "      Xo = Xi\n",
        "      Xi = Xo / 2.0\n",
        "   return Xo\n",
        "print(\"El mínimo número positivo\", end = \" \")\n",
        "print(\"en esta máquina es:\", min_maquina())\n",
        "\n",
        "```"
      ],
      "metadata": {
        "id": "D7puD11KmqRZ"
      }
    },
    {
      "cell_type": "markdown",
      "source": [
        "Es posible que introducir la variable bandera no sea necesario para\n",
        "garantizar que se entre al ciclo al menos una vez. En el programa del\n",
        "ejemplo anterior se puede ver que la variable ($X_i$) es mayor que cero por lo\n",
        "que a la fija entraría al ciclo aún sin manejar la variable bandera. Es\n",
        "importante siempre revisar este tipo de situaciones para ver si se puede\n",
        "mejorar un algoritmo."
      ],
      "metadata": {
        "id": "yf3j-1m-ndEy"
      }
    },
    {
      "cell_type": "markdown",
      "source": [
        "## Finalización forzada de un ciclo\n",
        "\n",
        "Cuando se construyen algoritmos que utilizan ciclos, algunos\n",
        "programadores requieren que dadas unas condiciones dentro del bloque de\n",
        "instrucciones internas del ciclo, se pare la ejecución del ciclo y se continue\n",
        "con las instrucciones subsiguientes.\n",
        "Este tipo de salidas forzadas, se obtiene usando la instrucción ``break``.\n",
        "Aunque el uso de ésta no se recomienda, pues hace difícil realizarle un\n",
        "seguimiento al programa, pues dejan muchas variables en valores que no se\n",
        "pueden controlar y/o determinar apropiadamente.\n",
        "\n",
        "Sin embargo, la instrucción ``break`` es utilizada por programadores ya sea\n",
        "por facilidad (algunos no realizan un buen diseño de los algoritmos\n",
        "cíclicos), a veces por velocidad de ejecución (sin verificar las condiciones\n",
        "de continuación o terminación del ciclo), ésta última situación es muy\n",
        "común cuando se usan ciclos de tipo para (for), ciclos que veremos en la\n",
        "próxima sesión.\n",
        "\n",
        "### Ejemplo\n",
        "\n",
        "Desarrollar un programa que lea números enteros y los sume hasta que lea\n",
        "un cero (0). \n",
        "\n",
        "Un algoritmo que soluciona este problema es el que se muestra a continuación:\n",
        "```\n",
        "suma = 0\n",
        "while True:\n",
        "   dato = int(input(\"Ingrese un número entero \" +\n",
        "   \"a sumar o 0 para salir: \"))\n",
        "\n",
        "   if(dato == 0):\n",
        "     break\n",
        "   suma += dato\n",
        "print(\"La suma es: \" + str(suma))\n",
        "```\n",
        "\n",
        "Se puede ver que el ciclo siempre se ejecutaría (su condición siempre es\n",
        "verdadera) por lo que la instrucción ``break`` se utiliza para poder salir\n",
        "cuando el usuario ingresa un cero (0)."
      ],
      "metadata": {
        "id": "PemYx0ZinsKY"
      }
    },
    {
      "cell_type": "code",
      "source": [
        "suma = 0\n",
        "while True:\n",
        "   dato = int(input(\"Ingrese un número entero \" +\n",
        "   \"a sumar o 0 para salir: \"))\n",
        "\n",
        "   if(dato == 0):\n",
        "     break\n",
        "   suma += dato\n",
        "print(\"La suma es: \" + str(suma))"
      ],
      "metadata": {
        "colab": {
          "base_uri": "https://localhost:8080/"
        },
        "id": "5Q-J7tBMo3Ki",
        "outputId": "7ab75a17-41f4-4ee9-bd60-8735e3b06955"
      },
      "execution_count": 3,
      "outputs": [
        {
          "output_type": "stream",
          "name": "stdout",
          "text": [
            "Ingrese un n ́umero entero a sumar o 0 para salir: 4\n",
            "Ingrese un n ́umero entero a sumar o 0 para salir: 6\n",
            "Ingrese un n ́umero entero a sumar o 0 para salir: 7\n",
            "Ingrese un n ́umero entero a sumar o 0 para salir: 0\n",
            "La suma es: 17\n"
          ]
        }
      ]
    },
    {
      "cell_type": "markdown",
      "source": [
        "Todo programa con un ciclo mientras (``while``) que tenga una instrucción\n",
        "break se puede ajustar para que **no la use**, sin embargo, el proceso de eliminar dicha instrucción requiere leer y entender correctamente el papel\n",
        "de la instrucción break en el ciclo. Cuando se usa por velocidad en los ciclos para (for), es muy difícil (sino imposible) eliminarla.\n",
        "\n",
        "##Ejemplo\n",
        "\n",
        "Eliminar el break del programa anterior.\n",
        "\n",
        "Lo primero que se puede determinar es que se puede cambiar la condición\n",
        "del ciclo para que deje de ser siempre verdadera por una que dependa del\n",
        "valor del dato leído (que es lo que se usa para ejecutar la instrucción\n",
        "break). Lo otro importante es que se debe leer al menos una vez un dato,\n",
        "ya sea para no leer más datos (si el usuario ingresa 0), o para sumarlos.\n",
        "De esta manera se puede usar la aproximación al ciclo hacer-mientras (do)\n",
        "que usa una bandera. Por lo tanto, la eliminación del break produce el\n",
        "algoritmo que se muestra a continuación\n",
        "```\n",
        "dato = 0\n",
        "suma = 0\n",
        "bandera = True\n",
        "while (bandera or dato != 0):\n",
        "  bandera = False\n",
        "  dato = int(input(\"Ingrese un número entero \" +\n",
        "  \"a sumar o 0 para salir: \")) \n",
        "  suma += dato\n",
        "print(\"La suma es: \" + str(suma))\n",
        "```"
      ],
      "metadata": {
        "id": "SVyVcQrjpGoK"
      }
    },
    {
      "cell_type": "code",
      "source": [
        "dato = 0\n",
        "suma = 0\n",
        "bandera = True\n",
        "while (bandera or dato != 0):\n",
        "  bandera = False\n",
        "  dato = int(input(\"Ingrese un número entero \" +\n",
        "  \"a sumar o 0 para salir: \")) \n",
        "  suma += dato\n",
        "print(\"La suma es: \" + str(suma))"
      ],
      "metadata": {
        "id": "kWZxaG5QqhK2"
      },
      "execution_count": null,
      "outputs": []
    },
    {
      "cell_type": "markdown",
      "source": [
        "Una simplificación del programa anterior es el siguiente programa, hay que\n",
        "tener muy en cuenta que para hacer este tipo de mejoras hay que entender\n",
        "muy bien el algoritmo.\n",
        "\n",
        "```\n",
        "dato = 1\n",
        "suma = 0\n",
        "while (dato != 0):\n",
        "   dato = int(input(\"Ingrese un número entero \" +\n",
        "   \"a sumar o 0 para salir: \"))\n",
        "   suma += dato\n",
        "print(\"La suma es: \" + str(suma))\n",
        "```"
      ],
      "metadata": {
        "id": "N6Cy7GhRqegg"
      }
    },
    {
      "cell_type": "markdown",
      "source": [],
      "metadata": {
        "id": "Mt3M-DRQqKhz"
      }
    },
    {
      "cell_type": "code",
      "source": [
        "dato = 1\n",
        "suma = 0\n",
        "while (dato != 0):\n",
        "   dato = int(input(\"Ingrese un número entero \" +\n",
        "   \"a sumar o 0 para salir: \"))\n",
        "   suma += dato\n",
        "print(\"La suma es: \" + str(suma))"
      ],
      "metadata": {
        "id": "U19KOsgnp-FT"
      },
      "execution_count": null,
      "outputs": []
    },
    {
      "cell_type": "markdown",
      "source": [],
      "metadata": {
        "id": "VDH-1Y5foryE"
      }
    }
  ]
}