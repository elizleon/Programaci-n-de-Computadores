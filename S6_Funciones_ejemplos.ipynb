{
  "nbformat": 4,
  "nbformat_minor": 0,
  "metadata": {
    "colab": {
      "provenance": [],
      "include_colab_link": true
    },
    "kernelspec": {
      "name": "python3",
      "display_name": "Python 3"
    },
    "language_info": {
      "name": "python"
    }
  },
  "cells": [
    {
      "cell_type": "markdown",
      "metadata": {
        "id": "view-in-github",
        "colab_type": "text"
      },
      "source": [
        "<a href=\"https://colab.research.google.com/github/elizleon/Programacion-de-Computadores/blob/main/S6_Funciones_ejemplos.ipynb\" target=\"_parent\"><img src=\"https://colab.research.google.com/assets/colab-badge.svg\" alt=\"Open In Colab\"/></a>"
      ]
    },
    {
      "cell_type": "markdown",
      "source": [
        "##PROGRAMACION DE COMPUTADORES\n",
        "##Ejemplos de Funciones\n",
        "### Prof. Elizabeth León\n",
        "### Universidad Nacional de Colombia\n",
        "\n",
        "---"
      ],
      "metadata": {
        "id": "XCu8CfVeuKJL"
      }
    },
    {
      "cell_type": "markdown",
      "source": [
        "1. Función que calcula el cuadrado de un número\n",
        "\n",
        "  x: número\n",
        "\n",
        "  f:   $\\mathbb{Z} → \\mathbb{Z} \\\\\n",
        "  (x)  →  x^2$"
      ],
      "metadata": {
        "id": "u25-LejCtsi1"
      }
    },
    {
      "cell_type": "code",
      "execution_count": null,
      "metadata": {
        "colab": {
          "base_uri": "https://localhost:8080/"
        },
        "id": "EYKUxG9o04w-",
        "outputId": "e21487ce-d6e8-4a40-cfea-32650993b2df"
      },
      "outputs": [
        {
          "output_type": "stream",
          "name": "stdout",
          "text": [
            "16\n"
          ]
        }
      ],
      "source": [
        "def f(x):\n",
        "  rta = x**2\n",
        "  return rta\n",
        "\n",
        "print( f(4) )"
      ]
    },
    {
      "cell_type": "code",
      "source": [
        "print( f(5) )"
      ],
      "metadata": {
        "colab": {
          "base_uri": "https://localhost:8080/"
        },
        "id": "E0gcsiPz1nMM",
        "outputId": "3bf64419-355f-4e72-c58c-423907a3a735"
      },
      "execution_count": null,
      "outputs": [
        {
          "output_type": "stream",
          "name": "stdout",
          "text": [
            "25\n"
          ]
        }
      ]
    },
    {
      "cell_type": "code",
      "source": [
        "print(f(6))"
      ],
      "metadata": {
        "colab": {
          "base_uri": "https://localhost:8080/"
        },
        "id": "4-Ujhs841x4a",
        "outputId": "f22e76de-bd8a-485a-a82b-572ba2ac3c00"
      },
      "execution_count": null,
      "outputs": [
        {
          "output_type": "stream",
          "name": "stdout",
          "text": [
            "36\n"
          ]
        }
      ]
    },
    {
      "cell_type": "markdown",
      "source": [
        "2. Función que calcula el área del círculo\n",
        "\n",
        "  r: radio del círculo\n",
        "\n",
        "  area_circulo:   $\n",
        " \\mathbb{R} → \\mathbb{R} \\\\\n",
        "(r)  →  \\pi*r^2$"
      ],
      "metadata": {
        "id": "rIihb1IpucW9"
      }
    },
    {
      "cell_type": "code",
      "source": [
        "import math\n",
        "def area_circulo(r):\n",
        "  return (math.pi * r ** 2)"
      ],
      "metadata": {
        "id": "zV8tl9rS29I6"
      },
      "execution_count": null,
      "outputs": []
    },
    {
      "cell_type": "code",
      "source": [
        "print(round(area_circulo(2),2))"
      ],
      "metadata": {
        "colab": {
          "base_uri": "https://localhost:8080/"
        },
        "id": "6Jh8Mo0I3PBK",
        "outputId": "e4dfeb54-0d1e-450e-aa79-8887f6f101b3"
      },
      "execution_count": null,
      "outputs": [
        {
          "output_type": "stream",
          "name": "stdout",
          "text": [
            "12.57\n"
          ]
        }
      ]
    },
    {
      "cell_type": "code",
      "source": [
        "#Otra implementación\n",
        "from math import pi\n",
        "def area_circulo(r):\n",
        "  return (pi * r ** 2)"
      ],
      "metadata": {
        "id": "WmcYoCHX4F0U"
      },
      "execution_count": null,
      "outputs": []
    },
    {
      "cell_type": "markdown",
      "source": [
        "3. Función que calcula el área de un rectángulo\n",
        "\n",
        "  a: ancho del rectángulo\n",
        "\n",
        "  l: largo del rectángulo\n",
        "\n",
        "  area_rectangulo:   $\n",
        " \\mathbb{R} \\times \\mathbb{R} → \\mathbb{R} \\\\\n",
        "(a,l)  →  a*l$"
      ],
      "metadata": {
        "id": "Kn5Jgo0du4Zd"
      }
    },
    {
      "cell_type": "code",
      "source": [
        "def area_rectangulo(l,a):\n",
        "  return l*a"
      ],
      "metadata": {
        "id": "CtoByOpt-9MH"
      },
      "execution_count": null,
      "outputs": []
    },
    {
      "cell_type": "markdown",
      "source": [
        "Captura valores por pantalla de largo y ancho del rectángulo y calcula el área usando la funcion area_rectangulo"
      ],
      "metadata": {
        "id": "X8rnS0QPvD-U"
      }
    },
    {
      "cell_type": "code",
      "source": [
        "largo = float(input(\"Largo del rectangulo: \"))\n",
        "ancho = float(input(\"Ancho del rectangulo: \"))\n",
        "print(\"El area del rectangulo es: \", end=\" \")\n",
        "print(area_rectangulo(largo,ancho))"
      ],
      "metadata": {
        "colab": {
          "base_uri": "https://localhost:8080/"
        },
        "id": "F4HA_XFjAcr8",
        "outputId": "e1e663eb-3c45-42c6-f888-70f86b240dee"
      },
      "execution_count": null,
      "outputs": [
        {
          "output_type": "stream",
          "name": "stdout",
          "text": [
            "Largo del rectangulo: 5\n",
            "Ancho del rectangulo: 4\n",
            "El area del rectangulo es:  20.0\n"
          ]
        }
      ]
    },
    {
      "cell_type": "markdown",
      "source": [
        "4. Mi mamá me manda a comprar P panes a \\$ 300 cada uno, M bolsas de leche a \\$ 3300 cada una y H huevos a \\$ 350 cada uno. Hacer un\n",
        "programa que me diga las vueltas (o lo que quedo debiendo) cuando\n",
        "me da un billete de B pesos."
      ],
      "metadata": {
        "id": "wYxAmogxvweY"
      }
    },
    {
      "cell_type": "markdown",
      "source": [
        "\n",
        "\n",
        ">   P: cantidad de panes\n",
        "\n",
        "  >   M: cantidad de bolsas de leche\n",
        "\n",
        "  >   H: cantidad de huevos\n",
        "\n",
        "  >   B: Valor del BilleteBloc con sangría\n",
        "\n",
        "\n",
        "\n",
        "  >   vueltas:   $\\mathbb{Z^+} \\times \\mathbb{Z^+} \\times \\mathbb{Z^+} \\times \\mathbb{Z^+} → \\mathbb{Z^+} \\\\\n",
        "(P,M,H,B)  →  B - (P*300 + M*3300 + H*350)$\n",
        "\n",
        "\n"
      ],
      "metadata": {
        "id": "6UZR_QBav-CN"
      }
    },
    {
      "cell_type": "code",
      "source": [
        "def vueltas(P,M,H,B):\n",
        "  costo = P*300 + M*3300 + H*350\n",
        "  return  B - costo \n",
        "\n",
        "print(vueltas(10,2,10,20000))"
      ],
      "metadata": {
        "colab": {
          "base_uri": "https://localhost:8080/"
        },
        "id": "-v-VO0NOxK_1",
        "outputId": "a281d7ba-f1a8-43f4-b1b9-1843cb3a8227"
      },
      "execution_count": null,
      "outputs": [
        {
          "output_type": "stream",
          "name": "stdout",
          "text": [
            "6900\n"
          ]
        }
      ]
    },
    {
      "cell_type": "code",
      "source": [
        "print(vueltas(100,20,10,50000))"
      ],
      "metadata": {
        "colab": {
          "base_uri": "https://localhost:8080/"
        },
        "id": "al6G1OHoyOfh",
        "outputId": "49b7ff54-a320-4b95-b6eb-9e9083af623c"
      },
      "execution_count": null,
      "outputs": [
        {
          "output_type": "stream",
          "name": "stdout",
          "text": [
            "-49500\n"
          ]
        }
      ]
    },
    {
      "cell_type": "markdown",
      "source": [
        "Modificación del programa para que cuando las vueltas sean negativas saque un mensaje \"No alcanza\""
      ],
      "metadata": {
        "id": "XUL2Ov2qyWpK"
      }
    },
    {
      "cell_type": "code",
      "source": [
        "\n",
        "val = vueltas(10,2,10,20000)\n",
        "if (val < 0) : \n",
        "  print(\"No alcanza\") \n",
        "else :\n",
        "  print(val) \n"
      ],
      "metadata": {
        "colab": {
          "base_uri": "https://localhost:8080/"
        },
        "id": "0NTxOIjOyjhJ",
        "outputId": "a3e2437b-5365-4434-b526-26bf1ee2b800"
      },
      "execution_count": null,
      "outputs": [
        {
          "output_type": "stream",
          "name": "stdout",
          "text": [
            "6900\n"
          ]
        }
      ]
    }
  ]
}