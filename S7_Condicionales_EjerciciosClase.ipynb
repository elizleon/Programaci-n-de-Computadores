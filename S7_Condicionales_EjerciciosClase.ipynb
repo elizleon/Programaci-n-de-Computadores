{
  "nbformat": 4,
  "nbformat_minor": 0,
  "metadata": {
    "colab": {
      "provenance": [],
      "include_colab_link": true
    },
    "kernelspec": {
      "name": "python3",
      "display_name": "Python 3"
    },
    "language_info": {
      "name": "python"
    }
  },
  "cells": [
    {
      "cell_type": "markdown",
      "metadata": {
        "id": "view-in-github",
        "colab_type": "text"
      },
      "source": [
        "<a href=\"https://colab.research.google.com/github/elizleon/Programacion-de-Computadores/blob/main/S7_Condicionales_EjerciciosClase.ipynb\" target=\"_parent\"><img src=\"https://colab.research.google.com/assets/colab-badge.svg\" alt=\"Open In Colab\"/></a>"
      ]
    },
    {
      "cell_type": "markdown",
      "source": [
        "#Programación de Computadores\n",
        "\n",
        "##Ejercicios de clase\n",
        "##Profesora Elizabeth León\n",
        "------"
      ],
      "metadata": {
        "id": "hOx_4bXIpfbQ"
      }
    },
    {
      "cell_type": "markdown",
      "source": [
        "**Problema**. Dadas tres longitudes, determinar si es posible armar un triángulo.\n",
        "\n",
        "l1: longitud 1\n",
        "\n",
        "l2: longitud 2\n",
        "\n",
        "l3: longitud 3\n",
        "\n",
        "\n",
        "\n",
        "\\begin{align*}\n",
        "desigualdadTriangular:\n",
        " \\mathbb{R}  \\times \\mathbb{R}  \\times \\mathbb{R} → \\mathbb{Bool} \n",
        "\\end{align*}\n",
        "\\begin{align*}\n",
        "desigualdadTriangular(l1,l2,l3) &\\mapsto\n",
        "\\begin{cases}\n",
        "True, &  l1+l2 > l3 \\land l2+l3 > l1 \\land l3+l1 > l2   \\\\\n",
        "False, & \\text{en otro caso}.\n",
        "\\end{cases}\n",
        "\\end{align*}"
      ],
      "metadata": {
        "id": "Q3zEyzaMfKGf"
      }
    },
    {
      "cell_type": "code",
      "source": [
        "def desigualdadTriangular(l1,l2,l3):\n",
        "  if l1+l2 >l3 and l2+l3 >l1 and l3+l1>l2:\n",
        "    return True\n",
        "  else:\n",
        "    return False\n",
        "\n",
        "print(desigualdadTriangular(3,2,10))"
      ],
      "metadata": {
        "colab": {
          "base_uri": "https://localhost:8080/"
        },
        "id": "5AfcWI2lomUG",
        "outputId": "77052266-58a5-4f7b-ecb9-c7d8ca8b655d"
      },
      "execution_count": null,
      "outputs": [
        {
          "output_type": "stream",
          "name": "stdout",
          "text": [
            "False\n"
          ]
        }
      ]
    },
    {
      "cell_type": "code",
      "source": [
        "print(desigualdadTriangular(4,8,10))"
      ],
      "metadata": {
        "colab": {
          "base_uri": "https://localhost:8080/"
        },
        "id": "i36C6SP7pJwq",
        "outputId": "751fe955-f931-4eaa-c1fa-57642f62a35c"
      },
      "execution_count": null,
      "outputs": [
        {
          "output_type": "stream",
          "name": "stdout",
          "text": [
            "True\n"
          ]
        }
      ]
    },
    {
      "cell_type": "code",
      "execution_count": null,
      "metadata": {
        "colab": {
          "base_uri": "https://localhost:8080/"
        },
        "id": "zbFPKBeHuE1e",
        "outputId": "a0850070-7038-4d9d-8177-b76204f75dfb"
      },
      "outputs": [
        {
          "output_type": "stream",
          "name": "stdout",
          "text": [
            "False\n"
          ]
        }
      ],
      "source": [
        "def radio_circulo(h,k,x,y,r):\n",
        "   rta = False\n",
        "   if r**2 >= (x-h)**2+(y-k)**2:\n",
        "     rta = True\n",
        "   return rta\n",
        "\n",
        "r= 1\n",
        "h= 0\n",
        "k= 0\n",
        "x= 3\n",
        "y= 3\n",
        "print(radio_circulo(h,k,x,y,r))"
      ]
    },
    {
      "cell_type": "markdown",
      "source": [
        "**Problema**. Función Recursiva.\n",
        "n!\n",
        "\n",
        "Ejemplo: 4!=4x3x2x1\n",
        "1!=1\n",
        "0!=1\n",
        "\n",
        "\n",
        "\\begin{align*}\n",
        "factorial: \\mathbb{Z}  → \\mathbb{Z} \n",
        "\\end{align*}\n",
        "\n",
        "\\begin{align*}\n",
        "factorial(n) &\\mapsto\n",
        "\\begin{cases}\n",
        "1, &  n==1 \\lor n==0  \\\\\n",
        "factorial(n-1), & \\text{en otro caso}.\n",
        "\\end{cases}\n",
        "\\end{align*}\n"
      ],
      "metadata": {
        "id": "ZZqfd6rThhGq"
      }
    },
    {
      "cell_type": "code",
      "source": [
        "def factorial(n):\n",
        "  if n==1 or n==0:\n",
        "    f = 1\n",
        "  else:\n",
        "    f = n*factorial(n-1)\n",
        "  return f\n",
        "\n",
        "print (factorial(4))"
      ],
      "metadata": {
        "colab": {
          "base_uri": "https://localhost:8080/"
        },
        "id": "hKBsMn6k46BA",
        "outputId": "4e249ac9-df5a-4f35-db25-db6a696c0217"
      },
      "execution_count": null,
      "outputs": [
        {
          "output_type": "stream",
          "name": "stdout",
          "text": [
            "24\n"
          ]
        }
      ]
    }
  ]
}