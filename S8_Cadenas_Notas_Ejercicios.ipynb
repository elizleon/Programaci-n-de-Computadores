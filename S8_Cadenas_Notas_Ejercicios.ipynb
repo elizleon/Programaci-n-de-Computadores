{
  "nbformat": 4,
  "nbformat_minor": 0,
  "metadata": {
    "colab": {
      "provenance": [],
      "collapsed_sections": [],
      "authorship_tag": "ABX9TyOHH9j1Xf6Pu+xn3J939F7Y",
      "include_colab_link": true
    },
    "kernelspec": {
      "name": "python3",
      "display_name": "Python 3"
    },
    "language_info": {
      "name": "python"
    }
  },
  "cells": [
    {
      "cell_type": "markdown",
      "metadata": {
        "id": "view-in-github",
        "colab_type": "text"
      },
      "source": [
        "<a href=\"https://colab.research.google.com/github/elizleon/Programacion-de-Computadores/blob/main/S8_Cadenas_Notas_Ejercicios.ipynb\" target=\"_parent\"><img src=\"https://colab.research.google.com/assets/colab-badge.svg\" alt=\"Open In Colab\"/></a>"
      ]
    },
    {
      "cell_type": "markdown",
      "source": [
        "#Universidad Nacional de Colombia\n",
        "#Programación de Computadores\n",
        "\n",
        "##Notas y ejercicios de clase\n",
        "##Cadenas\n",
        "##Profesora Elizabeth León\n",
        "-------"
      ],
      "metadata": {
        "id": "hOx_4bXIpfbQ"
      }
    },
    {
      "cell_type": "markdown",
      "source": [
        "Las cadenas de caracteres representan una secuencia de caracteres (cero o más caracteres). El tipo de dato usado para las cadenas es el **string**\n",
        "Ejemplo de cadena:"
      ],
      "metadata": {
        "id": "-cS11ohoYZEy"
      }
    },
    {
      "cell_type": "code",
      "source": [
        "str1 = 'Hola a todos!'\n",
        "print(str1)"
      ],
      "metadata": {
        "id": "quY3xm5qY2H6"
      },
      "execution_count": null,
      "outputs": []
    },
    {
      "cell_type": "markdown",
      "source": [
        "Como lo mencionamos antes, las variables acceden a una posición de memoria, usando **id()** se obtiene el identificador único (la posición en memoria) de la variable, para el ejemplo la variable **str1** accede:"
      ],
      "metadata": {
        "id": "wBpDdO8FZGCk"
      }
    },
    {
      "cell_type": "code",
      "source": [
        "id(str1) "
      ],
      "metadata": {
        "id": "NMcpRRyxZPAO"
      },
      "execution_count": null,
      "outputs": []
    },
    {
      "cell_type": "code",
      "source": [
        "str1 = 'Hola compañeros'\n",
        "id(str1)"
      ],
      "metadata": {
        "id": "8GfyW-olZfqi"
      },
      "execution_count": null,
      "outputs": []
    },
    {
      "cell_type": "markdown",
      "source": [
        "#Operadores"
      ],
      "metadata": {
        "id": "I-P77G1mctvH"
      }
    },
    {
      "cell_type": "markdown",
      "source": [
        "##Operador concatenar  **+**"
      ],
      "metadata": {
        "id": "L-XeCVXTcyou"
      }
    },
    {
      "cell_type": "code",
      "source": [
        "Operador que une dos cadenas."
      ],
      "metadata": {
        "id": "EJmU6dE1c7Ea"
      },
      "execution_count": null,
      "outputs": []
    },
    {
      "cell_type": "code",
      "source": [
        "nombre = \"Minch Yoda\"\n",
        "trabajo = \"Stars War\"\n",
        "print(nombre + \" el maestro\")\n",
        "print(nombre + trabajo)\n",
        "print(trabajo + \" \" + nombre)"
      ],
      "metadata": {
        "colab": {
          "base_uri": "https://localhost:8080/"
        },
        "id": "sUOPpiandAsQ",
        "outputId": "d72edeb6-2030-4c96-bd32-ea50a8fa483d"
      },
      "execution_count": null,
      "outputs": [
        {
          "output_type": "stream",
          "name": "stdout",
          "text": [
            "Minch Yoda el maestro\n",
            "Minch YodaStars War\n",
            "Stars War Minch Yoda\n"
          ]
        }
      ]
    },
    {
      "cell_type": "markdown",
      "source": [
        "##Operadores convencionales **(<, <=, >, >=, ==, !=)**\n",
        "Estos operdores permiten comparar cadenas usando el orden lexicográfico, es decir alfabético. \n",
        "\n",
        "En el orden lexicográfico, se comparan de izquierda a derecha uno a uno los caracteres, mientras sean iguales. En el caso que no sean iguales, si el carácter de la primera cadena es menor que el de la segunda a la primer cadena se le considera menor, pero si es mayor, a la primera cadena se le considera\n",
        "mayor. Si todos los caracteres son iguales, las cadenas son iguales.\n"
      ],
      "metadata": {
        "id": "oSZBRcLAdPSC"
      }
    },
    {
      "cell_type": "code",
      "source": [
        "print(\"Rojas\" == \"rosas\")\n",
        "print(\"Rojas\" < \"Rosas\")\n",
        "print(\"Rojas\" > \"Rosas\")"
      ],
      "metadata": {
        "colab": {
          "base_uri": "https://localhost:8080/"
        },
        "id": "Laxd2rsgdpvQ",
        "outputId": "bcd1486d-b858-4c48-dd27-395d9e60efd8"
      },
      "execution_count": null,
      "outputs": [
        {
          "output_type": "stream",
          "name": "stdout",
          "text": [
            "False\n",
            "True\n",
            "False\n"
          ]
        }
      ]
    },
    {
      "cell_type": "markdown",
      "source": [
        "##Operador subíndice  **[ ]**\n",
        "\n",
        "Un string se puede ver como una secuencia de caracteres a los cuales se puede acceder de acuerdo de a la posición del caracter en la cadena. El operador **[ ]** permite acceder a los elementos (caracteres) de un string, iniciando en la posición 0."
      ],
      "metadata": {
        "id": "N_1D30E8avZu"
      }
    },
    {
      "cell_type": "code",
      "source": [
        "str1 = \"Hola compañeros\"\n",
        "print(str1[0])\n",
        "print(str1[3])\n",
        "print(str1[4])\n",
        "print(str1[10])"
      ],
      "metadata": {
        "id": "IgPqVU2gbSf9"
      },
      "execution_count": null,
      "outputs": []
    },
    {
      "cell_type": "code",
      "source": [
        "print(str1[-1])\n",
        "print(len(str1))\n",
        "print(str1[-15])"
      ],
      "metadata": {
        "id": "kSfORW2lcATa"
      },
      "execution_count": null,
      "outputs": []
    },
    {
      "cell_type": "markdown",
      "source": [
        "##Slice\n",
        "Obtiene una parte (subcadena) de una cadena.\n",
        "\n",
        "Notación:  **[ inicio : fin : incremento ]**  (es similar a la función range).\n",
        "\n",
        "programa:\n"
      ],
      "metadata": {
        "id": "fm4-H7u0f9Uy"
      }
    },
    {
      "cell_type": "code",
      "source": [
        "nombre = \"Minch Yoda\"\n",
        "print(nombre[:5])\n",
        "print(nombre[0:7])\n",
        "print(nombre[6:10])\n",
        "print(nombre[::-1])"
      ],
      "metadata": {
        "colab": {
          "base_uri": "https://localhost:8080/"
        },
        "id": "DpcSjIrif-Wd",
        "outputId": "cb5102da-7ac7-4cfc-cabd-58b9546e7573"
      },
      "execution_count": null,
      "outputs": [
        {
          "output_type": "stream",
          "name": "stdout",
          "text": [
            "Minch\n",
            "Minch Y\n",
            "Yoda\n",
            "adoY hcniM\n",
            "Minch Yoda\n"
          ]
        }
      ]
    },
    {
      "cell_type": "markdown",
      "source": [
        "#Métodos\n",
        "##len()\n",
        "Para obtener la longitud de una cadena se puede utilizar la función **len()**, para la variable len(str1):"
      ],
      "metadata": {
        "id": "5UPjvVEdZ_ng"
      }
    },
    {
      "cell_type": "code",
      "source": [
        "len(str1)"
      ],
      "metadata": {
        "id": "S7bAFRFXaM5P"
      },
      "execution_count": null,
      "outputs": []
    },
    {
      "cell_type": "code",
      "source": [
        "str2 = 'Hola'\n",
        "len(str2)"
      ],
      "metadata": {
        "id": "l2Z4bS09aaqg"
      },
      "execution_count": null,
      "outputs": []
    },
    {
      "cell_type": "code",
      "source": [
        "str2 = ''\n",
        "len(str2)"
      ],
      "metadata": {
        "id": "aPYRfQKbaa16"
      },
      "execution_count": null,
      "outputs": []
    },
    {
      "cell_type": "markdown",
      "source": [
        "##count()\n",
        "El método **count()** obtiene el número de veces que una subcadena se encuentra en una cadena (o en una parte de ella). \n",
        "\n",
        "Notación: **count(subcadena, inicio, fin)**. "
      ],
      "metadata": {
        "id": "UaFbYla-hPXw"
      }
    },
    {
      "cell_type": "code",
      "source": [
        "str1 = \"The avengers\"\n",
        "print(str1.count(\"e\"))\n",
        "print(str1.count(\"e\", 0, 3))\n",
        "print(str1.count(\"e\", 4, len(str1)))\n",
        "cad = \"abcabcabcabcabc\"\n",
        "print(cad.count(\"abc\"))"
      ],
      "metadata": {
        "colab": {
          "base_uri": "https://localhost:8080/"
        },
        "id": "Ji0jEWNahuFn",
        "outputId": "e0eafd86-066b-4ca6-d62e-ac6346983c0a"
      },
      "execution_count": null,
      "outputs": [
        {
          "output_type": "stream",
          "name": "stdout",
          "text": [
            "3\n",
            "1\n",
            "2\n",
            "5\n"
          ]
        }
      ]
    },
    {
      "cell_type": "markdown",
      "source": [
        "##find() y rfind()\n",
        "El método **find()** obtiene la primera ocurrencia de una subcadena en una cadena (o en una parte de ella); y **rfind()** la última ocurrencia de una subcadena en una cadena (o en una parte de ella).\n",
        "\n",
        "Notación:    \n",
        "\n",
        "> **find(subcadena, inicio, fin)**\n",
        "\n",
        "> **rfind(subcadena, inicio, fin)**\n"
      ],
      "metadata": {
        "id": "QvmVNUQgQ6xZ"
      }
    },
    {
      "cell_type": "code",
      "source": [
        "str2 = \"It is not despair, for despair is only for those who see the end beyond all doubt. We do not.\"\n",
        "print(\"first:\", str2.find(\"despair\"))\n",
        "print(\"last:\", str2.rfind(\"despair\"))"
      ],
      "metadata": {
        "colab": {
          "base_uri": "https://localhost:8080/"
        },
        "id": "DYNSms70R3Ue",
        "outputId": "74af8729-d045-4c1f-cfe5-7f1fa3f0acfb"
      },
      "execution_count": null,
      "outputs": [
        {
          "output_type": "stream",
          "name": "stdout",
          "text": [
            "first: 10\n",
            "last: 94\n"
          ]
        }
      ]
    },
    {
      "cell_type": "markdown",
      "source": [
        "## lower(), upper(), capitalize(), title(), swapcase()\n",
        "Métodos que operan de acuerdo a mayúsculas y minúsculas"
      ],
      "metadata": {
        "id": "GZfSNF70Sw7R"
      }
    },
    {
      "cell_type": "code",
      "source": [
        "s = \"cien años de soledad en Macondo\"\n",
        "print(s.lower()) # Muestra la cadena en minúsculas\n",
        "print(s.upper()) # Muestra la cadena en mayúsculas\n",
        "print(s.capitalize()) # Primer letra a mayúscula\n",
        "print(s.title()) # Primer letra cada palabra a mayúscula\n",
        "print(s.swapcase()) # Mayúsculas <-> minúsculas"
      ],
      "metadata": {
        "colab": {
          "base_uri": "https://localhost:8080/"
        },
        "id": "X7fZTq3cS5vT",
        "outputId": "cd97fbb1-2ae4-4da9-fc55-692758eb418e"
      },
      "execution_count": null,
      "outputs": [
        {
          "output_type": "stream",
          "name": "stdout",
          "text": [
            "cien años de soledad en macondo\n",
            "CIEN AÑOS DE SOLEDAD EN MACONDO\n",
            "Cien años de soledad en macondo\n",
            "Cien Años De Soledad En Macondo\n",
            "CIEN AÑOS DE SOLEDAD EN mACONDO\n"
          ]
        }
      ]
    },
    {
      "cell_type": "markdown",
      "source": [
        "## strip(), lstrip(), rstrip()\n",
        "El método **strip()/lstrip()/rstrip()** remueve los caracteres deseados a los dos lados/izquierda/derecha de una cadena.\n",
        "\n",
        "Notación: **strip/lstrip/rstrip(caracteres)**. \n",
        "Si no se dan caracteres como argumento, elimina espacios en blanco (espacios y tabulaciones)."
      ],
      "metadata": {
        "id": "Yq-88It3TeMq"
      }
    },
    {
      "cell_type": "code",
      "source": [
        "s = \"---++---cien años de soledad en Macondo---++---\"\n",
        "print(s.strip(\"-+\"))\n",
        "print(s.lstrip(\"-+\"))\n",
        "print(s.rstrip(\"-+\"))"
      ],
      "metadata": {
        "colab": {
          "base_uri": "https://localhost:8080/"
        },
        "id": "_7ZepOOfT5As",
        "outputId": "e5c7af4f-e458-4711-9b5d-75760cfc0850"
      },
      "execution_count": null,
      "outputs": [
        {
          "output_type": "stream",
          "name": "stdout",
          "text": [
            "cien años de soledad en Macondo\n",
            "cien años de soledad en Macondo---++---\n",
            "---++---cien años de soledad en Macondo\n"
          ]
        }
      ]
    },
    {
      "cell_type": "code",
      "source": [
        "s= \"     cien años de soledad en Macondo      \"\n",
        "print(s.strip())"
      ],
      "metadata": {
        "colab": {
          "base_uri": "https://localhost:8080/"
        },
        "id": "uncC502gUIl8",
        "outputId": "9e912a15-162a-4710-eaee-9c4c74f5de1c"
      },
      "execution_count": null,
      "outputs": [
        {
          "output_type": "stream",
          "name": "stdout",
          "text": [
            "cien años de soledad en Macondo\n"
          ]
        }
      ]
    },
    {
      "cell_type": "markdown",
      "source": [
        "##split()\n",
        "El método **split()** divide una cadena de acuerdo a una subcadena que sirve como delimitador, dejando las partes separadas en una lista. \n",
        "Notación: **split(delimitador)**"
      ],
      "metadata": {
        "id": "DzKeEeg2UXbN"
      }
    },
    {
      "cell_type": "code",
      "source": [
        "sdate = \"01-06-2021\"\n",
        "sp = sdate.split(\"-\")\n",
        "print(sp)\n",
        "print(\"día:\", sp[0], \" mes:\", sp[1], \" año:\", sp[2])"
      ],
      "metadata": {
        "colab": {
          "base_uri": "https://localhost:8080/"
        },
        "id": "EtwJy7VEUjNL",
        "outputId": "6d52cb71-a79a-48e6-ea58-418f0f5fb723"
      },
      "execution_count": null,
      "outputs": [
        {
          "output_type": "stream",
          "name": "stdout",
          "text": [
            "['01', '06', '2021']\n",
            "día: 01  mes: 06  año: 2021\n"
          ]
        }
      ]
    },
    {
      "cell_type": "markdown",
      "source": [
        "## Justificando cadenas: ljust(), rjust(), center(), zfill()\n",
        "ljust() : Justificar una cadena a la izquierda\n",
        "\n",
        "rjust() : Justificar una cadena a la derecha\n",
        "\n",
        "center() : Centrar una cadena\n",
        "\n",
        "zfill() : Llenar una cadena con ceros"
      ],
      "metadata": {
        "id": "oTuiVvFLU1t0"
      }
    },
    {
      "cell_type": "code",
      "source": [
        "str1 = \"Bogotá\"\n",
        "print(str1.ljust(15, \"#\"))\n",
        "print(str1.rjust(15, \"#\"))\n",
        "print(str1.center(15, \"#\"))\n",
        "account = \"123456789\"\n",
        "print(account.zfill(15))"
      ],
      "metadata": {
        "colab": {
          "base_uri": "https://localhost:8080/"
        },
        "id": "zgm-6V5QVF8M",
        "outputId": "cb0ad2ca-9d2e-4051-c807-83cbfca239dd"
      },
      "execution_count": null,
      "outputs": [
        {
          "output_type": "stream",
          "name": "stdout",
          "text": [
            "Bogotá#########\n",
            "#########Bogotá\n",
            "#####Bogotá####\n",
            "000000123456789\n"
          ]
        }
      ]
    },
    {
      "cell_type": "markdown",
      "source": [
        "##replace()\n",
        "El método replace reemplazar una subcadena en una cadena por otra.\n",
        "\n",
        "Notación: **replace(anterior, nueva)**"
      ],
      "metadata": {
        "id": "dKtPuZakVZxO"
      }
    },
    {
      "cell_type": "code",
      "source": [
        "str1 = \"cien años de soledad\"\n",
        "print(str1)\n",
        "rep = str1.replace(\"cien\", \"setenta\")\n",
        "print(rep)\n",
        "rep = rep.replace(\"años\", \"días\")\n",
        "print(rep)\n",
        "rep = rep.replace(\"soledad\", \"clases de programación!\")\n",
        "print(rep)\n"
      ],
      "metadata": {
        "colab": {
          "base_uri": "https://localhost:8080/"
        },
        "id": "lP7dqXROVlQ6",
        "outputId": "9fb5a797-7161-4e65-eac6-1ff58a67295b"
      },
      "execution_count": null,
      "outputs": [
        {
          "output_type": "stream",
          "name": "stdout",
          "text": [
            "cien años de soledad\n",
            "setenta años de soledad\n",
            "setenta días de soledad\n",
            "setenta días de clases de programación!\n"
          ]
        }
      ]
    },
    {
      "cell_type": "markdown",
      "source": [
        "##min(), max()\n",
        "Mínima ó máxima letra alfanumérica ```min```, ```max```."
      ],
      "metadata": {
        "id": "n-4yWm0-Yg-K"
      }
    },
    {
      "cell_type": "code",
      "source": [
        "min('abcdario')"
      ],
      "metadata": {
        "id": "lMoJJygxYuzA"
      },
      "execution_count": null,
      "outputs": []
    },
    {
      "cell_type": "code",
      "source": [
        "max('abcdario')"
      ],
      "metadata": {
        "id": "c-8CKBwEYxqm"
      },
      "execution_count": null,
      "outputs": []
    },
    {
      "cell_type": "markdown",
      "source": [
        "##Consultando una cadena\n",
        "Es posible determinar si una subcadena se encuentra en una cadena de caracteres. El siguiente programa busca una cadena en otra cadena, usando **in**:\n"
      ],
      "metadata": {
        "id": "5_TWVXijests"
      }
    },
    {
      "cell_type": "code",
      "source": [
        "text = \"cien años de soledad\"\n",
        "if \"años\" in text:\n",
        "  print(\"yes\")\n",
        "else:\n",
        "  print(\"no\")"
      ],
      "metadata": {
        "id": "eb7wRC0ifBaF"
      },
      "execution_count": null,
      "outputs": []
    },
    {
      "cell_type": "markdown",
      "source": [
        "## Métodos booleanos sobre cadenas\n",
        "**endswith() :** Determinar si una cadena termina con.\n",
        "\n",
        "**startswith() :** Determinar si una cadena empieza con.\n",
        "\n",
        "**isalpha() :** Determinar si una cadena contiene letras únicamente.\n",
        "\n",
        "**isalnum() :** Determinar si una cadena contiene números y letras\n",
        "únicamente (alfanum ́erico).\n",
        "\n",
        "**isdigit() :** Determinar si una cadena contiene sólo dígitos.\n",
        "\n",
        "**isspace() :** Determinar si una cadena contiene sólo espacios.\n",
        "\n",
        "**istitle() :** Determinar si una cadena es un título.\n",
        "\n",
        "**islower() :** Determinar si una cadena contiene todos sus caracteres en minúsculas.\n",
        "\n",
        "**isupper() :** Determinar si una cadena contiene todos sus caracteres en mayúscula.\n"
      ],
      "metadata": {
        "id": "pdbFNS6uWAtj"
      }
    },
    {
      "cell_type": "code",
      "source": [
        "text = \"Cien años de soledad.\"\n",
        "result = text.endswith('soledad.')\n",
        "print(result)"
      ],
      "metadata": {
        "id": "NPHKEjUrXOa-"
      },
      "execution_count": null,
      "outputs": []
    },
    {
      "cell_type": "code",
      "source": [
        "text = \"Cien años de soledad.\"\n",
        "result = text.startswith('años',5,len(text))\n",
        "print(result)"
      ],
      "metadata": {
        "id": "1RLjVgKoXQJB"
      },
      "execution_count": null,
      "outputs": []
    },
    {
      "cell_type": "code",
      "source": [
        "str1 = 'lasquinceletras'\n",
        "str1.isalpha()"
      ],
      "metadata": {
        "id": "txS7ThvcXT_V"
      },
      "execution_count": null,
      "outputs": []
    },
    {
      "cell_type": "code",
      "source": [
        "str2 = 'las quince letras'\n",
        "str2.isalpha()"
      ],
      "metadata": {
        "id": "l9hoLwWQXWSq"
      },
      "execution_count": null,
      "outputs": []
    },
    {
      "cell_type": "code",
      "source": [
        "str3 = 'edad:15'\n",
        "str3.isalpha()"
      ],
      "metadata": {
        "id": "VjjQiXIDXaF7"
      },
      "execution_count": null,
      "outputs": []
    },
    {
      "cell_type": "code",
      "source": [
        "str4 = 'edad15'\n",
        "str4.isalnum()"
      ],
      "metadata": {
        "id": "ZU5edWnUXdIZ"
      },
      "execution_count": null,
      "outputs": []
    },
    {
      "cell_type": "code",
      "source": [
        "str5 = 'edad15#'\n",
        "str5.isalnum()"
      ],
      "metadata": {
        "id": "Uq65o1zrXfEQ"
      },
      "execution_count": null,
      "outputs": []
    },
    {
      "cell_type": "code",
      "source": [
        "str_num = '123456789'\n",
        "str_num.isdigit()"
      ],
      "metadata": {
        "id": "FQ4PZD-2Xg12"
      },
      "execution_count": null,
      "outputs": []
    },
    {
      "cell_type": "code",
      "source": [
        "strs = \" \"\n",
        "strs.isspace()"
      ],
      "metadata": {
        "id": "3H1-3shGXjAt"
      },
      "execution_count": null,
      "outputs": []
    },
    {
      "cell_type": "code",
      "source": [
        "strs = 'Cien Años De Soledad'\n",
        "strs.istitle()"
      ],
      "metadata": {
        "id": "Moa8F7cEXlf0"
      },
      "execution_count": null,
      "outputs": []
    },
    {
      "cell_type": "code",
      "source": [
        "str1 = 'cien'\n",
        "str1.islower()"
      ],
      "metadata": {
        "id": "WqY7BMyfXnf8"
      },
      "execution_count": null,
      "outputs": []
    },
    {
      "cell_type": "code",
      "source": [
        "str1 = 'cien#945663'\n",
        "str1.islower()"
      ],
      "metadata": {
        "id": "tIXJ0-yMXpMQ"
      },
      "execution_count": null,
      "outputs": []
    },
    {
      "cell_type": "markdown",
      "source": [
        "\n",
        "## Ejercicio 1: Validación \n",
        "\n",
        "A Juanito le gusta escribir al revés y ha escrito unas cadenas muy largas. Juanito necesita su ayuda para saber si lo que ha escrito al revés es lo mismo que piensa.  \n",
        "Entrada: Dos Strings uno con la cadena al derecho (lo que piensa) y otro con la posible cadena invertida. \n",
        "\n",
        "Salida: La palabra SI si la palabra corresponde a su versión invertida. La palabra NO en caso contrario. Ejemplo:\n",
        "<table>\n",
        "    <tr>\n",
        "        <td>Input</td><td>Output</td>\n",
        "    </tr>\n",
        "    <tr>\n",
        "        <td>\n",
        "No tengo ningún consejo para darle a aquel que desespera.<br>\n",
        ".arepsesed euq leuqa a elrad arap ojesnoc núgnin ognet oN\n",
        "        </td><td>SI</td>\n",
        "    </tr>\n",
        " <table>"
      ],
      "metadata": {
        "id": "GuuXZtCef6Yh"
      }
    },
    {
      "cell_type": "markdown",
      "source": [
        "## Ejercicio 2: mayUSCULAS PEGADAS\n",
        "A veces al escribir cosas de afán suele pasar que se queda el teclado con la tecla de caps lock pegada. Su misión es detectar si esto sucedió y escribir la cadena correctamente.\n",
        "\n",
        "Entrada: Una cadena de texto\n",
        "Salida: La cadena escrita correctamente\n",
        "\n",
        "Ejemplo 1:\n",
        "\n",
        "<table>\n",
        "    <tr><td>Input</td><td>Output</td>\n",
        "    <tr>\n",
        "            <td>No tengo ningún consejo para darle a AQUEL QUE DESESPERA.</td>\n",
        "        <td>No tengo ningún consejo para darle a aquel que desespera.</td>\n",
        "     </tr>\n",
        "<table>\n",
        "    \n",
        "Ejemplo 2:\n",
        "\n",
        "<table>\n",
        "    <tr><td>Input</td><td>Output</td>\n",
        "    <tr>\n",
        "        <td>cAPS LOCK</td>\n",
        "        <td>Caps LOCK</td>\n",
        "     </tr>\n",
        "<table>\n",
        "\n",
        "\t\n",
        "Ejemplo 3:\n",
        "\n",
        "<table>\n",
        "    <tr><td>Input</td><td>Output</td>\n",
        "    <tr>\n",
        "        <td>cien años de soledad</td>\n",
        "        <td>cien años de soledad</td>\n",
        "     </tr>\n",
        "<table>\n",
        "\n",
        "Ejemplo 3:\n",
        "<table>\n",
        "    <tr><td>Input</td><td>Output</td>\n",
        "    <tr>\n",
        "        <td>Cien años de sOLEDAD</td>\n",
        "        <td>Cien años de Soledad</td>\n",
        "     </tr>\n",
        "<table>\n"
      ],
      "metadata": {
        "id": "YCp5W_aohK1c"
      }
    },
    {
      "cell_type": "markdown",
      "source": [
        "\n",
        "##Referencias\n",
        "J. Gómez, A. Rodríguez, C. Cubides & C. Sierra Programación de Computadores – UN"
      ],
      "metadata": {
        "id": "jhl6B2ssdxVe"
      }
    }
  ]
}