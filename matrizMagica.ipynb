{
  "nbformat": 4,
  "nbformat_minor": 0,
  "metadata": {
    "colab": {
      "provenance": [],
      "authorship_tag": "ABX9TyPq++LFA4mtIguMnKd3mqCx",
      "include_colab_link": true
    },
    "kernelspec": {
      "name": "python3",
      "display_name": "Python 3"
    },
    "language_info": {
      "name": "python"
    }
  },
  "cells": [
    {
      "cell_type": "markdown",
      "metadata": {
        "id": "view-in-github",
        "colab_type": "text"
      },
      "source": [
        "<a href=\"https://colab.research.google.com/github/elizleon/Programacion-de-Computadores/blob/main/matrizMagica.ipynb\" target=\"_parent\"><img src=\"https://colab.research.google.com/assets/colab-badge.svg\" alt=\"Open In Colab\"/></a>"
      ]
    },
    {
      "cell_type": "markdown",
      "source": [
        "##**Matriz** **Mágica**"
      ],
      "metadata": {
        "id": "iYcwZrdD0OAB"
      }
    },
    {
      "cell_type": "code",
      "execution_count": 1,
      "metadata": {
        "id": "NJPVSuqm0B5C"
      },
      "outputs": [],
      "source": [
        "def matriz_magica(A):\n",
        "  magica = True\n",
        "  sumadiagonal1=0\n",
        "  sumadiagonal2=0\n",
        "  for i in range(len(A)):\n",
        "    sumadiagonal1=sumadiagonal1 + A[i][i]\n",
        "    sumadiagonal2=sumadiagonal2 + A[i][len(A)-1-i]\n",
        "    sumafila=0\n",
        "    sumacolumna=0\n",
        "    for j in range(len(A[i])):\n",
        "      sumafila = sumafila+A[i][j]\n",
        "      sumacolumna = sumacolumna+A[j][i]\n",
        "    if (i == 0):\n",
        "      sumaTotalF=sumafila\n",
        "      sumaTotalC=sumacolumna\n",
        "    elif (sumaTotalF!=sumafila or sumaTotalC!=sumacolumna):\n",
        "      magica= False\n",
        "  if (magica):\n",
        "    if (sumadiagonal1 != sumadiagonal2 or sumadiagonal1 != sumaTotalF or sumadiagonal2 != sumaTotalF):\n",
        "      magica = False\n",
        "  return magica"
      ]
    },
    {
      "cell_type": "code",
      "source": [
        "print( matriz_magica( [[8,1,6],[3,5,7],[4,9,2]] ) )"
      ],
      "metadata": {
        "colab": {
          "base_uri": "https://localhost:8080/"
        },
        "id": "EFmZtEvb0LwY",
        "outputId": "615b02cf-631d-4e7c-c121-b8c3db9dc586"
      },
      "execution_count": 2,
      "outputs": [
        {
          "output_type": "stream",
          "name": "stdout",
          "text": [
            "True\n"
          ]
        }
      ]
    },
    {
      "cell_type": "code",
      "source": [
        "print( matriz_magica( [[4,1,1],[5,1,0],[3,3,0]] ) )"
      ],
      "metadata": {
        "colab": {
          "base_uri": "https://localhost:8080/"
        },
        "id": "HGIfxD9f0HYj",
        "outputId": "68ca91e3-e729-4d6f-eae0-973628961405"
      },
      "execution_count": 3,
      "outputs": [
        {
          "output_type": "stream",
          "name": "stdout",
          "text": [
            "False\n"
          ]
        }
      ]
    },
    {
      "cell_type": "code",
      "source": [
        "print( matriz_magica( [[1,1,1],[1,1,1],[1,1,1]] ) )"
      ],
      "metadata": {
        "colab": {
          "base_uri": "https://localhost:8080/"
        },
        "id": "0VmB7HBW0Jzk",
        "outputId": "d899975c-f7d1-4e0a-97b3-1ac18d723f23"
      },
      "execution_count": 4,
      "outputs": [
        {
          "output_type": "stream",
          "name": "stdout",
          "text": [
            "True\n"
          ]
        }
      ]
    },
    {
      "cell_type": "code",
      "source": [
        "print( matriz_magica( [[2,2,2,2],[2,2,2,2],[2,2,2,2],[2,2,2,2]] ) )"
      ],
      "metadata": {
        "colab": {
          "base_uri": "https://localhost:8080/"
        },
        "id": "dEBFF6WT0gjd",
        "outputId": "9daa6d91-1aab-453f-a4e5-82c65e158a49"
      },
      "execution_count": 5,
      "outputs": [
        {
          "output_type": "stream",
          "name": "stdout",
          "text": [
            "True\n"
          ]
        }
      ]
    },
    {
      "cell_type": "code",
      "source": [
        "print( matriz_magica( [[1,2,3,4],[4,3,2,1],[3,4,1,2],[2,1,4,3]] ) )"
      ],
      "metadata": {
        "colab": {
          "base_uri": "https://localhost:8080/"
        },
        "id": "9CHoUX9e0sJz",
        "outputId": "b4e11966-97b5-4bc3-a90a-d347373d14a0"
      },
      "execution_count": 6,
      "outputs": [
        {
          "output_type": "stream",
          "name": "stdout",
          "text": [
            "False\n"
          ]
        }
      ]
    }
  ]
}