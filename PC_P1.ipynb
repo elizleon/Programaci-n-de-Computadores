{
  "nbformat": 4,
  "nbformat_minor": 0,
  "metadata": {
    "colab": {
      "provenance": [],
      "authorship_tag": "ABX9TyN9SvFxZASdnirw2S+Sx/VW",
      "include_colab_link": true
    },
    "kernelspec": {
      "name": "python3",
      "display_name": "Python 3"
    },
    "language_info": {
      "name": "python"
    }
  },
  "cells": [
    {
      "cell_type": "markdown",
      "metadata": {
        "id": "view-in-github",
        "colab_type": "text"
      },
      "source": [
        "<a href=\"https://colab.research.google.com/github/elizleon/Programacion-de-Computadores/blob/main/PC_P1.ipynb\" target=\"_parent\"><img src=\"https://colab.research.google.com/assets/colab-badge.svg\" alt=\"Open In Colab\"/></a>"
      ]
    },
    {
      "cell_type": "markdown",
      "source": [
        "# Universidad Nacional de Colombia\n",
        "# SOLUCION PARCIAL\n",
        "##Programación de computadores\n",
        "## Prof. Elizabeth León Guzmán\n",
        "\n",
        "___________\n",
        "####**1.** Función producción de huevos\n",
        "  A: Número de aves\n",
        "\n",
        "  M: Número de meses\n",
        "\n",
        "  $produccionHuevos:   \\mathbb{Z} \\times \\mathbb{Z} → \\mathbb{Z} \\\\\n",
        "  produccionHuevos(A,M)  →  (((A//3)//2)*(30/3) + ((A//3)//2)*(30/5))*M$"
      ],
      "metadata": {
        "id": "1rKtCu2xUQ4L"
      }
    },
    {
      "cell_type": "code",
      "source": [
        "def produccionHuevos(A,M):\n",
        "  H=((A//3//2)*(30/3) + (A//3//2)*(30/5))*M\n",
        "  return H\n",
        "\n",
        "print(produccionHuevos(90,1))"
      ],
      "metadata": {
        "colab": {
          "base_uri": "https://localhost:8080/"
        },
        "id": "pezubTORrc1-",
        "outputId": "28536c70-8755-4889-f4ea-a545aa8a0cd3"
      },
      "execution_count": 1,
      "outputs": [
        {
          "output_type": "stream",
          "name": "stdout",
          "text": [
            "240.0\n"
          ]
        }
      ]
    },
    {
      "cell_type": "markdown",
      "source": [
        "####**2.** Función que retorna si un número es múltiplo de la suma de otros dos números\n",
        "\n",
        "  n: número a determinar si es múltiplo de la suma de otros dos\n",
        "\n",
        "  n1: número 1 a sumar\n",
        "\n",
        "  n2: número 2 a sumar\n",
        "\n",
        "\\begin{align*}\n",
        "multiplo: \\mathbb{Z}\\times\\mathbb{Z}\\times\\mathbb{Z} &\\to \\mathbb{Bool}\\\\ \n",
        "multiplo(n,n1,n2) &\\mapsto\n",
        "\\begin{cases}\n",
        "True, &  n\\%(n1+n2)==0,   \\\\\n",
        "False, & \\text{en otro caso}.\n",
        "\\end{cases}\n",
        "\\end{align*}"
      ],
      "metadata": {
        "id": "VZxBk8YvX6Lx"
      }
    },
    {
      "cell_type": "code",
      "execution_count": 2,
      "metadata": {
        "colab": {
          "base_uri": "https://localhost:8080/"
        },
        "id": "M9hOdfs1qh7T",
        "outputId": "658499de-6a42-4bc5-8a0a-89dbed6f23c7"
      },
      "outputs": [
        {
          "output_type": "stream",
          "name": "stdout",
          "text": [
            "True\n"
          ]
        }
      ],
      "source": [
        "def multiplo(n,n1,n2):\n",
        "  if n%(n1+n2)==0:\n",
        "    return True\n",
        "  else:\n",
        "    return False\n",
        "\n",
        "print(multiplo(24,4,2))"
      ]
    },
    {
      "cell_type": "code",
      "source": [
        "print(multiplo(30,5,2))"
      ],
      "metadata": {
        "colab": {
          "base_uri": "https://localhost:8080/"
        },
        "id": "OWMJaimlrLCK",
        "outputId": "bc41332c-af58-427d-aadf-0f598476ee8f"
      },
      "execution_count": 3,
      "outputs": [
        {
          "output_type": "stream",
          "name": "stdout",
          "text": [
            "False\n"
          ]
        }
      ]
    },
    {
      "cell_type": "code",
      "source": [
        "print(multiplo(30,-5,-5))"
      ],
      "metadata": {
        "colab": {
          "base_uri": "https://localhost:8080/"
        },
        "id": "zQpW_E3CrPhD",
        "outputId": "28b24c9b-1562-4199-9d47-651620a913b5"
      },
      "execution_count": 4,
      "outputs": [
        {
          "output_type": "stream",
          "name": "stdout",
          "text": [
            "True\n"
          ]
        }
      ]
    },
    {
      "cell_type": "markdown",
      "source": [
        "####**3.** Función que dado el radio de un círculo y la opción de cadena de 1 caracter (\"d\": inscrito o \"f\":circunscrito), calcule el área del cuadrado  \n",
        "\n",
        "  r: Radio del círculo\n",
        "\n",
        "  o: opcion del cuadrado (f o d)\n",
        "\n",
        "\\begin{align*}\n",
        "areaCuadradoCirculo: \\mathbb{R}\\times\\mathbb{ASCII} &\\to \\mathbb{R}\\\\\n",
        "\\end{align*}\n",
        "\\begin{align*}\n",
        "areaCuadradoCirculo(r,o) &\\mapsto\n",
        "\\begin{cases}\n",
        "2*r^2, &  o== \"d\",   \\\\\n",
        "4*r^2, &  o== \"f\".\n",
        "\\end{cases}\n",
        "\\end{align*}"
      ],
      "metadata": {
        "id": "BNA4KJSFZl3h"
      }
    },
    {
      "cell_type": "code",
      "source": [
        "def areaCuadradoCirculo(r, o):\n",
        "  if o == \"d\":\n",
        "     return 2*r**2\n",
        "  elif o == \"f\":\n",
        "    return 4*r**2\n",
        "print(areaCuadradoCirculo(2,\"d\"))"
      ],
      "metadata": {
        "colab": {
          "base_uri": "https://localhost:8080/"
        },
        "id": "QNEJlAVZt1R9",
        "outputId": "e4f07293-f617-4b26-c6c1-3e72b98e6a38"
      },
      "execution_count": 5,
      "outputs": [
        {
          "output_type": "stream",
          "name": "stdout",
          "text": [
            "8\n"
          ]
        }
      ]
    },
    {
      "cell_type": "code",
      "source": [
        "print(areaCuadradoCirculo(2,\"f\"))"
      ],
      "metadata": {
        "colab": {
          "base_uri": "https://localhost:8080/"
        },
        "id": "-iWrcO3sxM-J",
        "outputId": "c9fe1c24-e272-41fa-a6e6-bf3e1c69b1c6"
      },
      "execution_count": 6,
      "outputs": [
        {
          "output_type": "stream",
          "name": "stdout",
          "text": [
            "16\n"
          ]
        }
      ]
    },
    {
      "cell_type": "code",
      "source": [
        "print(areaCuadradoCirculo(2,\"d\"))"
      ],
      "metadata": {
        "colab": {
          "base_uri": "https://localhost:8080/"
        },
        "id": "YHYlJs6UxQQ4",
        "outputId": "c8054f36-b43c-4460-ff87-e255756baacb"
      },
      "execution_count": 7,
      "outputs": [
        {
          "output_type": "stream",
          "name": "stdout",
          "text": [
            "8\n"
          ]
        }
      ]
    },
    {
      "cell_type": "code",
      "source": [
        "import string\n",
        "def principal():\n",
        "  print(\"1. Granja\")\n",
        "  print(\"2. Múltiplo\")\n",
        "  print(\"3. Área cuadrado\")\n",
        "  opcion = int(input(\"Escoja una opción: \"))\n",
        "  if opcion == 1:\n",
        "    A = int(input(\"Número de Aves: \"))\n",
        "    M = int(input(\"Número de Meses: \"))\n",
        "    print(produccionHuevos(A,M))\n",
        "  elif opcion == 2:\n",
        "    a = int(input(\"Número 1: \"))\n",
        "    b = int(input(\"Número 1 a sumar: \"))\n",
        "    c = int(input(\"Número 2 a sumar: \"))\n",
        "    print(multiplo(a,b,c))\n",
        "  elif opcion == 3:\n",
        "    r = int(input(\"Radio del círculo: \"))\n",
        "    o = input(\"Opción del área del cuadrado: \")\n",
        "    print(areaCuadradoCirculo(r,o))\n",
        "  else:\n",
        "    print(\"No existe esa opción\")"
      ],
      "metadata": {
        "id": "kt1mj37R0B6E"
      },
      "execution_count": 8,
      "outputs": []
    },
    {
      "cell_type": "code",
      "source": [
        "principal()"
      ],
      "metadata": {
        "id": "xNI6O5E6c99v",
        "colab": {
          "base_uri": "https://localhost:8080/"
        },
        "outputId": "3abc6755-f475-4a62-b1c5-6fdf8276fddd"
      },
      "execution_count": 9,
      "outputs": [
        {
          "output_type": "stream",
          "name": "stdout",
          "text": [
            "1. Granja\n",
            "2. Múltiplo\n",
            "3. Área cuadrado\n",
            "Escoja una opción: 3\n",
            "Radio del círculo: 2\n",
            "Opción del área del cuadrado: d\n",
            "8\n"
          ]
        }
      ]
    }
  ]
}